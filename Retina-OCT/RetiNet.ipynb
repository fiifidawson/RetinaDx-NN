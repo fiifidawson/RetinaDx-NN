{
 "cells": [
  {
   "cell_type": "code",
   "execution_count": 1,
   "id": "0ec39ba6-1b09-4a0f-8382-64d7ab8cb105",
   "metadata": {},
   "outputs": [],
   "source": [
    "import os\n",
    "from PIL import Image\n",
    "import numpy as np\n",
    "import pandas as pd\n",
    "import tensorflow as tf\n",
    "from tensorflow import keras\n",
    "from tensorflow.keras import layers\n",
    "from flask import Flask, request, render_template\n",
    "from tensorflow.keras.preprocessing.image import load_img, img_to_array, ImageDataGenerator\n",
    "from sklearn.metrics import classification_report\n",
    "from sklearn.utils.class_weight import compute_class_weight"
   ]
  },
  {
   "cell_type": "code",
   "execution_count": 2,
   "id": "9e50d5c3-5d5b-455b-bcf9-1224abb663b6",
   "metadata": {},
   "outputs": [],
   "source": [
    "# Define dataset path\n",
    "dataset_path = r\"C:\\Users\\adlercohen\\DevAdler\\thesis-data\\Retinal-OCT-Reduced\""
   ]
  },
  {
   "cell_type": "code",
   "execution_count": 3,
   "id": "c1273a37-aa7c-42e1-9fa1-a53bd26dd5b1",
   "metadata": {},
   "outputs": [],
   "source": [
    "# Mapping Retinal OCT labels to Alzheimer's categories\n",
    "alzheimers_labels = {\n",
    "    \"NORMAL\": \"CN\",  # Cognitively Normal\n",
    "    \"DRUSEN\": \"MCI\",  # Mild Cognitive Impairment\n",
    "    \"CNV\": \"AD\",  # Alzheimer's Disease\n",
    "    \"DME\": \"AD\"  # Alzheimer's Disease\n",
    "}\n",
    "\n",
    "# Collect image paths and labels\n",
    "train_image_paths, train_labels = [], []\n",
    "test_image_paths, test_labels = [], []\n",
    "val_image_paths, val_labels = [], []\n",
    "\n",
    "for split, image_list, label_list in [\n",
    "    (\"train\", train_image_paths, train_labels), \n",
    "    (\"test\", test_image_paths, test_labels), \n",
    "    (\"val\", val_image_paths, val_labels)\n",
    "]:\n",
    "    for category in alzheimers_labels.keys():\n",
    "        folder_path = os.path.join(dataset_path, split, category)\n",
    "        if not os.path.exists(folder_path):\n",
    "            print(f\"Warning: {folder_path} does not exist. Skipping...\")\n",
    "            continue\n",
    "        for img_name in os.listdir(folder_path):\n",
    "            img_path = os.path.join(folder_path, img_name)\n",
    "            image_list.append(img_path)\n",
    "            label_list.append(alzheimers_labels[category])\n",
    "\n",
    "# Load images with augmentation\n",
    "datagen = ImageDataGenerator(\n",
    "    rotation_range=20,\n",
    "    width_shift_range=0.1,\n",
    "    height_shift_range=0.1,\n",
    "    shear_range=0.2,\n",
    "    zoom_range=0.2,\n",
    "    horizontal_flip=True,\n",
    "    fill_mode=\"nearest\"\n",
    ")"
   ]
  },
  {
   "cell_type": "code",
   "execution_count": 4,
   "id": "e84aae7a-370f-48a1-9430-6693efca77dc",
   "metadata": {},
   "outputs": [
    {
     "name": "stdout",
     "output_type": "stream",
     "text": [
      "Class weights: {0: np.float64(1.3254747871643746), 1: np.float64(1.335973597359736), 2: np.float64(0.667986798679868)}\n"
     ]
    }
   ],
   "source": [
    "def load_images(image_paths, labels, img_size=(300, 300)):\n",
    "    X, y = [], []\n",
    "    for img_path, label in zip(image_paths, labels):\n",
    "        try:\n",
    "            img = load_img(img_path, target_size=img_size)\n",
    "            img_array = img_to_array(img) / 255.0\n",
    "            X.append(img_array)\n",
    "            y.append(label)\n",
    "        except Exception as e:\n",
    "            print(f\"Error loading image {img_path}: {e}\")\n",
    "    return np.array(X), np.array(y)\n",
    "\n",
    "# Load datasets\n",
    "train_X, train_y = load_images(train_image_paths, train_labels)\n",
    "test_X, test_y = load_images(test_image_paths, test_labels)\n",
    "val_X, val_y = load_images(val_image_paths, val_labels)\n",
    "\n",
    "# Encode labels and ensure integer type\n",
    "label_map = {\"CN\": 0, \"MCI\": 1, \"AD\": 2}\n",
    "train_y = np.array([label_map[label] for label in train_y]).astype(int)  # Cast to int\n",
    "test_y = np.array([label_map[label] for label in test_y]).astype(int)\n",
    "val_y = np.array([label_map[label] for label in val_y]).astype(int)\n",
    "\n",
    "# Compute class weights (now classes are integers)\n",
    "class_weights = compute_class_weight(\n",
    "    class_weight='balanced',\n",
    "    classes=np.unique(train_y),\n",
    "    y=train_y\n",
    ")\n",
    "class_weights = dict(enumerate(class_weights))\n",
    "\n",
    "print(\"Class weights:\", class_weights)"
   ]
  },
  {
   "cell_type": "code",
   "execution_count": 5,
   "id": "035446df-a24b-4f53-9ddc-d3f49d6257eb",
   "metadata": {},
   "outputs": [],
   "source": [
    "# Build improved model\n",
    "def build_model(input_shape=(300, 300, 3), num_classes=3):\n",
    "    base_model = keras.applications.EfficientNetB3(weights='imagenet', include_top=False, input_shape=input_shape)\n",
    "    for layer in base_model.layers[-50:]:  # Fine-tune last 50 layers\n",
    "        layer.trainable = True\n",
    "    \n",
    "    model = keras.Sequential([\n",
    "        base_model,\n",
    "        layers.GlobalAveragePooling2D(),\n",
    "        layers.Dense(256, activation='relu'),\n",
    "        layers.Dropout(0.4),\n",
    "        layers.Dense(128, activation='relu'),\n",
    "        layers.Dropout(0.3),\n",
    "        layers.Dense(num_classes, activation='softmax')\n",
    "    ])\n",
    "    model.compile(optimizer=keras.optimizers.Adam(learning_rate=1e-5), \n",
    "                  loss='sparse_categorical_crossentropy', metrics=['accuracy'])\n",
    "    return model\n"
   ]
  },
  {
   "cell_type": "code",
   "execution_count": null,
   "id": "5c9bf70c-0322-4741-9e57-2d67ef3aa882",
   "metadata": {},
   "outputs": [
    {
     "name": "stderr",
     "output_type": "stream",
     "text": [
      "c:\\Users\\adlercohen\\DevAdler\\GitHub\\RetinaDx-NN\\Retina-OCT\\.env\\Lib\\site-packages\\keras\\src\\trainers\\data_adapters\\py_dataset_adapter.py:121: UserWarning: Your `PyDataset` class should call `super().__init__(**kwargs)` in its constructor. `**kwargs` can include `workers`, `use_multiprocessing`, `max_queue_size`. Do not pass these arguments to `fit()`, as they will be ignored.\n",
      "  self._warn_if_super_not_called()\n"
     ]
    },
    {
     "name": "stdout",
     "output_type": "stream",
     "text": [
      "Epoch 1/10\n",
      "\u001b[1m 1/64\u001b[0m \u001b[37m━━━━━━━━━━━━━━━━━━━━\u001b[0m \u001b[1m3:54:04\u001b[0m 223s/step - accuracy: 0.3125 - loss: 1.1996"
     ]
    }
   ],
   "source": [
    "# Train model\n",
    "model = build_model()\n",
    "lr_scheduler = keras.callbacks.ReduceLROnPlateau(monitor='val_loss', factor=0.5, patience=5, verbose=1)\n",
    "history = model.fit(datagen.flow(train_X, train_y, batch_size=32), \n",
    "                    validation_data=(val_X, val_y), \n",
    "                    epochs=10, \n",
    "                    class_weight=class_weights, \n",
    "                    callbacks=[lr_scheduler])\n",
    "\n",
    "# Save trained model\n",
    "model.save('alzheimers_rgc_model.h5')\n",
    "print(\"Model trained and saved successfully!\")\n",
    "\n",
    "# Predict on test data\n",
    "test_predictions = model.predict(test_X)\n",
    "test_pred_labels = np.argmax(test_predictions, axis=1)\n",
    "\n",
    "# Evaluate model on validation set\n",
    "val_predictions = model.predict(val_X)\n",
    "val_pred_labels = np.argmax(val_predictions, axis=1)\n",
    "\n",
    "print(\"Classification Report (Validation Set):\")\n",
    "print(classification_report(val_y, val_pred_labels, target_names=[\"CN\", \"MCI\", \"AD\"]))"
   ]
  }
 ],
 "metadata": {
  "kernelspec": {
   "display_name": ".env",
   "language": "python",
   "name": "python3"
  },
  "language_info": {
   "codemirror_mode": {
    "name": "ipython",
    "version": 3
   },
   "file_extension": ".py",
   "mimetype": "text/x-python",
   "name": "python",
   "nbconvert_exporter": "python",
   "pygments_lexer": "ipython3",
   "version": "3.11.9"
  }
 },
 "nbformat": 4,
 "nbformat_minor": 5
}
